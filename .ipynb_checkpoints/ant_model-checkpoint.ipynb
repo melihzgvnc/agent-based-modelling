{
 "cells": [
  {
   "cell_type": "code",
   "execution_count": 1,
   "id": "08f22f0c",
   "metadata": {},
   "outputs": [],
   "source": [
    "import mesa"
   ]
  },
  {
   "cell_type": "code",
   "execution_count": 19,
   "id": "06fe3c1b",
   "metadata": {},
   "outputs": [],
   "source": [
    "class AntModel(mesa.Model):\n",
    "    \n",
    "    def __init__(self):\n",
    "        self.grid = mesa.space.SingleGrid(50, 500, True)\n",
    "        self.init_cell_values()\n",
    "    \n",
    "    def init_cell_values(self):\n",
    "        for row in range(self.grid.height):\n",
    "            for col in range(self.grid.width):\n",
    "                grid[col][row] = 0.0\n",
    "        \n",
    "        \n",
    "class AntAgent(mesa.Agent):\n",
    "    \n",
    "    def __init__(self, model):\n",
    "        super().__init__(model)\n",
    "    \n",
    "    def move(self):\n",
    "        possible_steps = get_possible_steps()\n",
    "        new_position = choose_next_pos(possible_steps)\n",
    "        self.model.grid[self.pos[0]][self.pos[1]] += 1.0 #leaves pheromone before moving to the next cell\n",
    "        self.model.grid.move_agent(self, new_position)\n",
    "        \n",
    "    def get_possible_steps(self):\n",
    "        x,y = self.pos\n",
    "        pos_y = y + 1\n",
    "        \n",
    "        if x - 1 < 0:\n",
    "            pos_x_1 = self.model.grid.width - 1\n",
    "        else:\n",
    "            pos_x_1 = x - 1\n",
    "        \n",
    "        pos_x_2 = x\n",
    "        pos_x_3 = x + 1\n",
    "        \n",
    "        return [(pos_x_1, pos_y),(pos_x_1, pos_y),(pos_x_1, pos_y)]\n",
    "        \n",
    "    def choose_next_pos(self, possible_steps):\n",
    "        #normalisation to be added\n",
    "        next_pos = possible_steps[0]\n",
    "        \n",
    "        for step in possible_steps:\n",
    "            self.model.grid[step[0]][step[1]] += 0.1 \n",
    "            if self.model.grid[step[0]][step[1]]  > self.model.grid[next_pos[0]][next_pos[1]]\n",
    "                next_pos = step\n",
    "        \n",
    "        return next_pos\n",
    "    "
   ]
  },
  {
   "cell_type": "code",
   "execution_count": 3,
   "id": "8e0407c5",
   "metadata": {},
   "outputs": [],
   "source": [
    "! comm"
   ]
  },
  {
   "cell_type": "code",
   "execution_count": 39,
   "id": "f7e7b7dd",
   "metadata": {
    "scrolled": false
   },
   "outputs": [],
   "source": []
  },
  {
   "cell_type": "code",
   "execution_count": null,
   "id": "150294f0",
   "metadata": {},
   "outputs": [],
   "source": []
  },
  {
   "cell_type": "code",
   "execution_count": null,
   "id": "c34d7c67",
   "metadata": {},
   "outputs": [],
   "source": []
  },
  {
   "cell_type": "code",
   "execution_count": null,
   "id": "e5162082",
   "metadata": {},
   "outputs": [],
   "source": []
  },
  {
   "cell_type": "code",
   "execution_count": null,
   "id": "f8ab0314",
   "metadata": {},
   "outputs": [],
   "source": []
  }
 ],
 "metadata": {
  "kernelspec": {
   "display_name": "Python 3 (ipykernel)",
   "language": "python",
   "name": "python3"
  },
  "language_info": {
   "codemirror_mode": {
    "name": "ipython",
    "version": 3
   },
   "file_extension": ".py",
   "mimetype": "text/x-python",
   "name": "python",
   "nbconvert_exporter": "python",
   "pygments_lexer": "ipython3",
   "version": "3.9.12"
  }
 },
 "nbformat": 4,
 "nbformat_minor": 5
}
